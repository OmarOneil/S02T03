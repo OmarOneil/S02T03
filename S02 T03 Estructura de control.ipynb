{
 "cells": [
  {
   "cell_type": "markdown",
   "id": "908ae531",
   "metadata": {},
   "source": [
    "#  Exercici 1\n",
    "L'exercici consisteix a crear un programa que et classifiqui una variable numèrica en funció de l’escala Suspès/Aprovat/Notable/Excel·lent."
   ]
  },
  {
   "cell_type": "code",
   "execution_count": 142,
   "id": "23b6bb06",
   "metadata": {},
   "outputs": [
    {
     "name": "stdout",
     "output_type": "stream",
     "text": [
      "Enter the student grade : \n",
      "16\n",
      "Excelent\n"
     ]
    }
   ],
   "source": [
    "# get the input from the user: \n",
    "\n",
    "print(\"Enter the student grade : \")\n",
    "grade = int(input())\n",
    "\n",
    "#make a loop tp check the qualification grade \n",
    "\n",
    "if grade >= 16 and grade <=20:\n",
    "    print(\"Excelent\")\n",
    "elif grade >= 13 and grade <16:\n",
    "    print(\"Notable\")\n",
    "elif grade >= 10 and grade <13:\n",
    "    print(\"Approved\")\n",
    "elif grade < 10 :\n",
    "    print(\"Failed\")\n",
    "else:\n",
    "    print(\"Invalid Input!\")"
   ]
  },
  {
   "cell_type": "markdown",
   "id": "a41fbd43",
   "metadata": {},
   "source": [
    "#  Exercici 2\n",
    "Utilitzant el següent tutorial Programiz: Python Input, Output and Import crea un programa que et pregunti dos números. T’ha de mostrar un missatge dient si el primer és més gran, el segon és més gran o són iguals."
   ]
  },
  {
   "cell_type": "code",
   "execution_count": 143,
   "id": "7bd4faa3",
   "metadata": {},
   "outputs": [
    {
     "name": "stdout",
     "output_type": "stream",
     "text": [
      "Enter a first number : \n",
      "3\n",
      "Enter a second number: \n",
      "3\n",
      "the numbers are igual\n"
     ]
    }
   ],
   "source": [
    "# get the user inputs: \n",
    "\n",
    "print(\"Enter a first number : \")\n",
    "num1 = int(input())\n",
    "print(\"Enter a second number: \")\n",
    "num2 = int(input())\n",
    "if num1 > num2 :\n",
    "    print (\"the first number it's greater then the second\")\n",
    "if num1 < num2 :\n",
    "    print (\"The first number it's smaller the the second \")\n",
    "else :\n",
    "    print (\"the numbers are igual\")\n",
    "    "
   ]
  },
  {
   "cell_type": "markdown",
   "id": "0560e82e",
   "metadata": {},
   "source": [
    "#  Exercici 3\n",
    "Crea un programa que et pregunti el teu nom, i et demani un número. Si el número és 0, hauria de mostrar un missatge d’error. En cas contrari, hauria de mostrar el nom repetit tants cops com indiqui el número. Per exemple, “Joan Joan Joan”.\n"
   ]
  },
  {
   "cell_type": "code",
   "execution_count": 144,
   "id": "bfea46f4",
   "metadata": {},
   "outputs": [
    {
     "name": "stdout",
     "output_type": "stream",
     "text": [
      " Enter your name: \n",
      "Omar\n",
      "Enter a number: \n",
      "20\n",
      "Omar Omar Omar Omar Omar Omar Omar Omar Omar Omar Omar Omar Omar Omar Omar Omar Omar Omar Omar Omar \n"
     ]
    }
   ],
   "source": [
    "print(' Enter your name: ')\n",
    "name = input()\n",
    "print(\"Enter a number: \")\n",
    "t = int(input())\n",
    "if t == 0 :\n",
    "    print(\"Error 404\")\n",
    "else :\n",
    "    print((name + \" \") * t)"
   ]
  },
  {
   "cell_type": "markdown",
   "id": "8656a1f0",
   "metadata": {},
   "source": [
    "# Exercici 4\n",
    "Crea un programa que donada una llista qualsevol, et digui si es simètrica o no. Si ho és, que et digui quants elements té."
   ]
  },
  {
   "cell_type": "code",
   "execution_count": 145,
   "id": "b3d6d0d7",
   "metadata": {},
   "outputs": [],
   "source": [
    "import numpy as np"
   ]
  },
  {
   "cell_type": "code",
   "execution_count": 147,
   "id": "9156bac1",
   "metadata": {},
   "outputs": [
    {
     "name": "stdout",
     "output_type": "stream",
     "text": [
      "Enter the number of rows: 2\n",
      "Enter the number of columns: 2\n",
      "Enter the rows values: \n",
      "2\n",
      "4\n",
      "4\n",
      "3\n",
      "2 4 \n",
      "4 3 \n",
      "Yes\n"
     ]
    }
   ],
   "source": [
    "R = int(input('Enter the number of rows: '))\n",
    "C = int(input('Enter the number of columns: '))\n",
    "\n",
    "matrix = []\n",
    "print('Enter the rows values: ')\n",
    "\n",
    "for i in range(R):\n",
    "    a = []\n",
    "    for j in range(C):\n",
    "        a.append(int(input()))\n",
    "    matrix.append(a)\n",
    "for i in range(R):\n",
    "    for j in range(C):\n",
    "        print(matrix[i][j], end = \" \")\n",
    "    print() \n",
    "    \n",
    "def isSymmetric(matrix, N):\n",
    "    for i in range(N):\n",
    "        for j in range(N):\n",
    "            if (matrix[i][j] != matrix[j][i]):\n",
    "                return False\n",
    "    return True\n",
    "if (isSymmetric(matrix, (i*j))):\n",
    "    print (\"Yes\")\n",
    "else:\n",
    "    print (\"No\")"
   ]
  },
  {
   "cell_type": "markdown",
   "id": "29825874",
   "metadata": {},
   "source": [
    "##  Exercici 5\n",
    "Crea un programa que donada una llista, et digui quants números coincideixen amb la seva posició. Per exemple [3,4,2,0,2,3,6] el 2 i el 6 coincideixen."
   ]
  },
  {
   "cell_type": "code",
   "execution_count": 148,
   "id": "038ff8b6",
   "metadata": {},
   "outputs": [
    {
     "name": "stdout",
     "output_type": "stream",
     "text": [
      "indexes match the values :  [2, 3, 6]\n"
     ]
    }
   ],
   "source": [
    "Mylist = [3, 4, 2, 3, 2, 3, 6]\n",
    "indexes = [a for a in range(len(Mylist)) if Mylist[a] == a]\n",
    "print(\"indexes match the values : \", indexes)"
   ]
  }
 ],
 "metadata": {
  "kernelspec": {
   "display_name": "Python 3 (ipykernel)",
   "language": "python",
   "name": "python3"
  },
  "language_info": {
   "codemirror_mode": {
    "name": "ipython",
    "version": 3
   },
   "file_extension": ".py",
   "mimetype": "text/x-python",
   "name": "python",
   "nbconvert_exporter": "python",
   "pygments_lexer": "ipython3",
   "version": "3.9.7"
  }
 },
 "nbformat": 4,
 "nbformat_minor": 5
}
